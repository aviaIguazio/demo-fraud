{
 "cells": [
  {
   "cell_type": "markdown",
   "metadata": {},
   "source": [
    "# Model Training and Validation Pipeline\n",
    "Now that you have created features, you can use them to train one or more models. In this section, you will generate feature vectors with multiple features from one or more feature sets and feed them into an automated ML training and testing pipeline to create high-quality models.\n",
    "\n",
    "The ML pipeline can be triggered and tracked manually during the interactive devel‐ opment, or it can be saved (into Git) and be executed automatically on a given schedule or as a reaction to different events (such as code modification, CI/CD, data changes, model drift, and so on). See [MLRun project and CI/CD documentation](https://docs.mlrun.org/en/stable/projects/project.html) for details.\n"
   ]
  },
  {
   "cell_type": "code",
   "execution_count": 291,
   "metadata": {},
   "outputs": [],
   "source": [
    "project_name = 'fraud-demo'"
   ]
  },
  {
   "cell_type": "code",
   "execution_count": 292,
   "metadata": {},
   "outputs": [
    {
     "name": "stdout",
     "output_type": "stream",
     "text": [
      "> 2023-08-08 19:55:55,776 [info] Project loaded successfully: {'project_name': 'fraud-demo'}\n"
     ]
    }
   ],
   "source": [
    "import mlrun\n",
    "\n",
    "# Initialize the MLRun project object\n",
    "project = mlrun.get_or_create_project(project_name, context=\"./\", user_project=True)"
   ]
  },
  {
   "cell_type": "code",
   "execution_count": 293,
   "metadata": {},
   "outputs": [
    {
     "name": "stderr",
     "output_type": "stream",
     "text": [
      "Names with underscore '_' are about to be deprecated, use dashes '-' instead. Replacing underscores with dashes.\n"
     ]
    },
    {
     "data": {
      "text/plain": [
       "<mlrun.runtimes.serving.ServingRuntime at 0x7f562c0dd0a0>"
      ]
     },
     "execution_count": 293,
     "metadata": {},
     "output_type": "execute_result"
    }
   ],
   "source": [
    "project.set_function(\"hub://get_offline_features\",\"get_vector\",)\n",
    "project.set_function(\"hub://feature_selection\",\"feature-selection\",)\n",
    "project.set_function(\"hub://auto_trainer\",\"train\")\n",
    "project.set_function(\"hub://auto_trainer\",\"evaluate\")\n",
    "project.set_function(\"hub://v2_model_server\", \"serving\")"
   ]
  },
  {
   "cell_type": "code",
   "execution_count": 337,
   "metadata": {},
   "outputs": [
    {
     "data": {
      "text/plain": [
       "<mlrun.projects.project.MlrunProject at 0x7f56430f4760>"
      ]
     },
     "execution_count": 337,
     "metadata": {},
     "output_type": "execute_result"
    }
   ],
   "source": [
    "# set project level parameters and save\n",
    "project.spec.params = {'label_column': 'label'}\n",
    "project.save()"
   ]
  },
  {
   "cell_type": "code",
   "execution_count": 338,
   "metadata": {},
   "outputs": [
    {
     "name": "stdout",
     "output_type": "stream",
     "text": [
      "kind: project\n",
      "metadata:\n",
      "  name: fraud-demo-pengw\n",
      "  created: '2023-08-04T18:02:33.655000'\n",
      "spec:\n",
      "  params:\n",
      "    label_column: label\n",
      "  functions:\n",
      "  - url: hub://feature_selection\n",
      "    name: feature-selection\n",
      "  - url: hub://auto_trainer\n",
      "    name: train\n",
      "  - url: hub://v2_model_server\n",
      "    name: serving\n",
      "  - url: hub://get_offline_features\n",
      "    name: get-vector\n",
      "  - url: hub://auto_trainer\n",
      "    name: evaluate\n",
      "  workflows:\n",
      "  - path: src/new_train_workflow.py\n",
      "    name: main\n",
      "  artifacts: []\n",
      "  conda: ''\n",
      "  source: git@github.com:pengwei715/demo-fraud.git#refs/heads/feature/align_with_book\n",
      "  origin_url: git@github.com:pengwei715/demo-fraud.git#refs/heads/feature/align_with_book\n",
      "  desired_state: online\n",
      "  owner: pengw\n",
      "  build:\n",
      "    commands: []\n",
      "    requirements: []\n",
      "  custom_packagers: []\n",
      "status:\n",
      "  state: online\n",
      "\n"
     ]
    }
   ],
   "source": [
    "print(project.to_yaml())"
   ]
  },
  {
   "cell_type": "markdown",
   "metadata": {},
   "source": [
    "### Saving and loading projects from GIT\n",
    "\n",
    "After you saved your project and its elements (functions, workflows, artifacts, etc.) you can commit all your changes to a \n",
    "GIT repository. This can be done using standard GIT tools or using MLRun `project` methods such as `pull`, `push`, \n",
    "`remote`, which calls the Git API for you.\n",
    "\n",
    "Projects can then be loaded from Git using MLRun `load_project` method, for example: \n",
    "\n",
    "    project = mlrun.load_project(\"./myproj\", \"git://github.com/mlrun/project-demo.git\", name=project_name)\n",
    "    \n",
    "or using MLRun CLI:\n",
    "\n",
    "    mlrun project -n myproj -u \"git://github.com/mlrun/project-demo.git\" ./myproj\n",
    "    \n",
    "Read [CI/CD integration](../../projects/ci-integration.html) for more details."
   ]
  },
  {
   "cell_type": "markdown",
   "metadata": {},
   "source": [
    "## Creating and Evaluating a Feature Vector\n",
    "\n",
    "Models are trained with multiple features, which can arrive from different feature sets and be collected into training (feature) vectors. Feature stores know how to correctly combine the features into a vector by implementing smart JOINs and assessing the time dimension (time traveling).\n",
    "To define a feature vector, you need to specify a name, the list of features it contains, the target features (labels), and other optional parameters. Features are specified as `<FeatureSet>.<Feature> or <FeatureSet>.*`  (all the features in a feature set). The following part demonstrates how to create and use a feature vector.\n"
   ]
  },
  {
   "cell_type": "markdown",
   "metadata": {},
   "source": [
    "### Create a feature vector"
   ]
  },
  {
   "cell_type": "code",
   "execution_count": 339,
   "metadata": {},
   "outputs": [],
   "source": [
    "# Import MLRun's Feature Store\n",
    "import mlrun.feature_store as fstore\n",
    "\n",
    "# Define the list of features to use\n",
    "features = ['events.*',\n",
    "            'transactions.amount_max_2h', \n",
    "            'transactions.amount_sum_2h', \n",
    "            'transactions.amount_count_2h',\n",
    "            'transactions.amount_avg_2h', \n",
    "            'transactions.amount_max_12h', \n",
    "            'transactions.amount_sum_12h',\n",
    "            'transactions.amount_count_12h', \n",
    "            'transactions.amount_avg_12h', \n",
    "            'transactions.amount_max_24h',\n",
    "            'transactions.amount_sum_24h', \n",
    "            'transactions.amount_count_24h', \n",
    "            'transactions.amount_avg_24h',\n",
    "            'transactions.es_transportation_sum_14d', \n",
    "            'transactions.es_health_sum_14d',\n",
    "            'transactions.es_otherservices_sum_14d', \n",
    "            'transactions.es_food_sum_14d',\n",
    "            'transactions.es_hotelservices_sum_14d', \n",
    "            'transactions.es_barsandrestaurants_sum_14d',\n",
    "            'transactions.es_tech_sum_14d', \n",
    "            'transactions.es_sportsandtoys_sum_14d',\n",
    "            'transactions.es_wellnessandbeauty_sum_14d', \n",
    "            'transactions.es_hyper_sum_14d',\n",
    "            'transactions.es_fashion_sum_14d', \n",
    "            'transactions.es_home_sum_14d', \n",
    "            'transactions.es_travel_sum_14d', \n",
    "            'transactions.es_leisure_sum_14d',\n",
    "            'transactions.gender_F',\n",
    "            'transactions.gender_M',\n",
    "            'transactions.step', \n",
    "            'transactions.amount', \n",
    "            'transactions.timestamp_hour',\n",
    "            'transactions.timestamp_day_of_week']"
   ]
  },
  {
   "cell_type": "markdown",
   "metadata": {},
   "source": [
    "### Create a feature vector"
   ]
  },
  {
   "cell_type": "code",
   "execution_count": 340,
   "metadata": {},
   "outputs": [],
   "source": [
    "# Define the feature vector name for future reference\n",
    "fv_name = 'transactions-fraud'\n",
    "\n",
    "# Define the feature vector using the feature store (fstore)\n",
    "transactions_fv = fstore.FeatureVector(fv_name, \n",
    "                          features, \n",
    "                          label_feature=\"labels.label\",\n",
    "                          description='Predicting a fraudulent transaction')\n",
    "\n",
    "# Save the feature vector in the feature store\n",
    "transactions_fv.save()"
   ]
  },
  {
   "cell_type": "markdown",
   "metadata": {},
   "source": [
    "Once you have defined the feature vector, you can use `get_offline_features()` to generate the vector dataset and return it as a dataframe or materialize it into a file (CSV or Parquet). The next part demonstrates how to retrieve a vector, materialize it, and view its results."
   ]
  },
  {
   "cell_type": "markdown",
   "metadata": {},
   "source": [
    "## Building and Running an Automated Training and Validation Pipeline\n",
    "\n",
    "MLRun allows the building of distributed ML pipelines that can handle data processing, automated feature selection, training, optimization, testing, deployments, and so on. Pipelines are composed of steps that run or deploy custom or library (from the MLRun hub) serverless functions. Pipelines can be run locally (for debugging or small-scale tasks), on a scalable Kubernetes cluster (using Kubeflow), or in a CI/CD system.\n",
    "\n",
    "The example consists of the following pipeline steps (all using pre-defined MLRun hub functions):\n",
    "\n",
    "1. Materialize a feature vector (using `hub://get_offline_features`). \n",
    "2. Select the most optimal features (using `hub://feature_selection`).\n",
    "3. Train the model with multiple algorithms (using `hub://auto_trainer`).\n",
    "4. Evaluate the model (using `hub://auto_trainer`).\n",
    "5. Deploy the model and its application to the test cluster (using `hub://v2_model_server`). The next section will explain the model and application pipeline in detail.\n",
    "\n",
    "Each step can accept the previous steps’ results or data, and generate results, multiple visual artifacts/charts, versioned data objects, and registered models."
   ]
  },
  {
   "cell_type": "markdown",
   "metadata": {},
   "source": [
    "### ML pipeline (data prep, train, validate, and deploy)"
   ]
  },
  {
   "cell_type": "code",
   "execution_count": 345,
   "metadata": {},
   "outputs": [],
   "source": [
    "import mlrun\n",
    "from kfp import dsl\n",
    "\n",
    "from mlrun.model import HyperParamOptions\n",
    "\n",
    "\n",
    "# Create a Kubeflow Pipelines pipeline\n",
    "@dsl.pipeline(name=\"Fraud Detection Pipeline\",description=\"Detecting fraud from a transactions dataset\",)\n",
    "def pipeline( vector_name=\"transactions-fraud\", features=[], label_column=\"is_error\"):\n",
    "    project = mlrun.get_current_project() # Get FeatureVector\n",
    "    get_vector = mlrun.run_function(\n",
    "        \"hub://get_offline_features\",\n",
    "        name=\"get_vector\",\n",
    "        params={'feature_vector': vector_name,\n",
    "        'features': features,\n",
    "        'label_feature': label_column, \n",
    "        'target': {'name': 'parquet', 'kind': 'parquet'}, \n",
    "        \"update_stats\": True},\n",
    "        outputs=[\"feature_vector\"],\n",
    "    )\n",
    "    # Feature selection\n",
    "    feature_selection = mlrun.run_function(\n",
    "        \"hub://feature_selection\",\n",
    "        name=\"feature-selection\",\n",
    "        params={\n",
    "        \"output_vector_name\": \"short\",\n",
    "        \"label_column\": project.get_param(\"label_column\", \"label\"), \"k\": 18,\n",
    "        \"min_votes\": 2,\n",
    "        \"ignore_type_errors\": True,\n",
    "        }, \n",
    "        inputs={\"df_artifact\": get_vector.outputs['feature_vector']},\n",
    "        outputs=[\n",
    "        \"feature_scores\",\n",
    "        \"selected_features_count\",\n",
    "        \"top_features_vector\",\n",
    "        \"selected_features\",\n",
    "        ], \n",
    "    )\n",
    "    # train with hyper-paremeters\n",
    "    train = mlrun.run_function(\n",
    "        \"hub://auto_trainer\",\n",
    "        name=\"train\",\n",
    "        handler=\"train\",\n",
    "        params={\n",
    "            \"sample\": -1,\n",
    "            \"label_column\": project.get_param(\"label_column\", \"label\"),\n",
    "            \"test_size\": 0.10,\n",
    "        },\n",
    "        hyperparams={\n",
    "            \"model_name\": [\n",
    "            \"transaction_fraud_rf\",\n",
    "            \"transaction_fraud_xgboost\",\n",
    "            \"transaction_fraud_adaboost\",\n",
    "        ],\n",
    "        \"model_class\": [\n",
    "            \"sklearn.ensemble.RandomForestClassifier\",\n",
    "            \"sklearn.linear_model.LogisticRegression\",\n",
    "            \"sklearn.ensemble.AdaBoostClassifier\",\n",
    "        ], \n",
    "        },\n",
    "        hyper_param_options=HyperParamOptions(strategy=\"list\",\n",
    "                                          selector=\"max.accuracy\"),\n",
    "        inputs={\"dataset\": feature_selection.outputs[\"top_features_vector\"]},\n",
    "        outputs=[\"model\", \"test_set\"],\n",
    "    )\n",
    "    # test and visualize your model\n",
    "    test = mlrun.run_function(\n",
    "        \"hub://auto_trainer\",\n",
    "        name=\"evaluate\",\n",
    "        handler=\"evaluate\",\n",
    "        params={\n",
    "            \"label_columns\": project.get_param(\"label_column\", \"label\"),\n",
    "            \"model\": train.outputs[\"model\"],\n",
    "            \"drop_columns\": project.get_param(\"label_column\", \"label\"),\n",
    "        },\n",
    "        inputs={\"dataset\": train.outputs[\"test_set\"]},\n",
    "    )\n",
    "    # Create a serverless function from the hub, add a feature enrichment router\n",
    "    # This will enrich and impute the request with data from the feature vector\n",
    "    serving_function = mlrun.import_function(\"hub://v2_model_server\",\n",
    "                                             new_name=\"serving\")\n",
    "    serving_function.set_topology(\n",
    "        \"router\",\n",
    "        mlrun.serving.routers.EnrichmentModelRouter( feature_vector_uri=\"short\", impute_policy={\"*\": \"$mean\"}), exist_ok=True\n",
    "    )\n",
    "    # Enable model monitoring\n",
    "    serving_function.set_tracking()\n",
    "    serving_function.save()\n",
    "    # deploy the model server, pass a list of trained models to serve\n",
    "    deploy = mlrun.deploy_function(\n",
    "        serving_function,\n",
    "        models=[{\"key\": \"fraud\", \"model_path\": train.outputs[\"model\"]}],\n",
    "    )"
   ]
  },
  {
   "cell_type": "markdown",
   "metadata": {},
   "source": [
    "The workflow/pipeline can be executed using the MLRun SDK (`project.run()` method) or using CLI commands (mlrun project), and can run directly from the source repo (GIT). See details in [MLRun Projects and Automation documentation](https://docs.mlrun.org/en/stable/projects/project.html).\n",
    "\n",
    "You can set arguments and destinations for the different artifacts when you run the workflow. The pipeline progress and results are shown in the notebook. Alternatively, you can check the progress, logs, artifacts, and more, in the MLRun UI or the CI/CD system. The next part demonstrates how to run the pipeline with custom arguments using the SDK."
   ]
  },
  {
   "cell_type": "code",
   "execution_count": 346,
   "metadata": {},
   "outputs": [
    {
     "data": {
      "text/plain": [
       "<mlrun.projects.project.MlrunProject at 0x7f56430f4760>"
      ]
     },
     "execution_count": 346,
     "metadata": {},
     "output_type": "execute_result"
    }
   ],
   "source": [
    "# Register the workflow file as \"main\"\n",
    "project.set_workflow('main', 'src/new_train_workflow.py')\n",
    "project.save()"
   ]
  },
  {
   "cell_type": "markdown",
   "metadata": {
    "tags": []
   },
   "source": [
    "## Running the ML pipeline"
   ]
  },
  {
   "cell_type": "code",
   "execution_count": 355,
   "metadata": {},
   "outputs": [
    {
     "data": {
      "text/html": [
       "<div>Pipeline running (id=e42ef62b-8c38-4c40-bf2a-baf6e3403c7b), <a href=\"https://dashboard.default-tenant.app.llm2.iguazio-cd0.com/mlprojects/fraud-demo-pengw/jobs/monitor-workflows/workflow/e42ef62b-8c38-4c40-bf2a-baf6e3403c7b\" target=\"_blank\"><b>click here</b></a> to view the details in MLRun UI</div>"
      ],
      "text/plain": [
       "<IPython.core.display.HTML object>"
      ]
     },
     "metadata": {},
     "output_type": "display_data"
    },
    {
     "data": {
      "image/svg+xml": [
       "<?xml version=\"1.0\" encoding=\"UTF-8\" standalone=\"no\"?>\n",
       "<!DOCTYPE svg PUBLIC \"-//W3C//DTD SVG 1.1//EN\"\n",
       " \"http://www.w3.org/Graphics/SVG/1.1/DTD/svg11.dtd\">\n",
       "<!-- Generated by graphviz version 2.43.0 (0)\n",
       " -->\n",
       "<!-- Title: kfp Pages: 1 -->\n",
       "<svg width=\"248pt\" height=\"260pt\"\n",
       " viewBox=\"0.00 0.00 248.05 260.00\" xmlns=\"http://www.w3.org/2000/svg\" xmlns:xlink=\"http://www.w3.org/1999/xlink\">\n",
       "<g id=\"graph0\" class=\"graph\" transform=\"scale(1 1) rotate(0) translate(4 256)\">\n",
       "<title>kfp</title>\n",
       "<polygon fill=\"white\" stroke=\"transparent\" points=\"-4,4 -4,-256 244.05,-256 244.05,4 -4,4\"/>\n",
       "<!-- fraud&#45;detection&#45;pipeline&#45;hf44h&#45;2374366891 -->\n",
       "<g id=\"node1\" class=\"node\">\n",
       "<title>fraud&#45;detection&#45;pipeline&#45;hf44h&#45;2374366891</title>\n",
       "<ellipse fill=\"green\" stroke=\"black\" cx=\"125\" cy=\"-234\" rx=\"57.69\" ry=\"18\"/>\n",
       "<text text-anchor=\"middle\" x=\"125\" y=\"-230.3\" font-family=\"Times,serif\" font-size=\"14.00\">get&#45;vector</text>\n",
       "</g>\n",
       "<!-- fraud&#45;detection&#45;pipeline&#45;hf44h&#45;583367692 -->\n",
       "<g id=\"node2\" class=\"node\">\n",
       "<title>fraud&#45;detection&#45;pipeline&#45;hf44h&#45;583367692</title>\n",
       "<ellipse fill=\"green\" stroke=\"black\" cx=\"125\" cy=\"-162\" rx=\"89.08\" ry=\"18\"/>\n",
       "<text text-anchor=\"middle\" x=\"125\" y=\"-158.3\" font-family=\"Times,serif\" font-size=\"14.00\">feature&#45;selection</text>\n",
       "</g>\n",
       "<!-- fraud&#45;detection&#45;pipeline&#45;hf44h&#45;2374366891&#45;&gt;fraud&#45;detection&#45;pipeline&#45;hf44h&#45;583367692 -->\n",
       "<g id=\"edge1\" class=\"edge\">\n",
       "<title>fraud&#45;detection&#45;pipeline&#45;hf44h&#45;2374366891&#45;&gt;fraud&#45;detection&#45;pipeline&#45;hf44h&#45;583367692</title>\n",
       "<path fill=\"none\" stroke=\"black\" d=\"M125,-215.7C125,-207.98 125,-198.71 125,-190.11\"/>\n",
       "<polygon fill=\"black\" stroke=\"black\" points=\"128.5,-190.1 125,-180.1 121.5,-190.1 128.5,-190.1\"/>\n",
       "</g>\n",
       "<!-- fraud&#45;detection&#45;pipeline&#45;hf44h&#45;3588809735 -->\n",
       "<g id=\"node4\" class=\"node\">\n",
       "<title>fraud&#45;detection&#45;pipeline&#45;hf44h&#45;3588809735</title>\n",
       "<ellipse fill=\"green\" stroke=\"black\" cx=\"125\" cy=\"-90\" rx=\"33.29\" ry=\"18\"/>\n",
       "<text text-anchor=\"middle\" x=\"125\" y=\"-86.3\" font-family=\"Times,serif\" font-size=\"14.00\">train</text>\n",
       "</g>\n",
       "<!-- fraud&#45;detection&#45;pipeline&#45;hf44h&#45;583367692&#45;&gt;fraud&#45;detection&#45;pipeline&#45;hf44h&#45;3588809735 -->\n",
       "<g id=\"edge4\" class=\"edge\">\n",
       "<title>fraud&#45;detection&#45;pipeline&#45;hf44h&#45;583367692&#45;&gt;fraud&#45;detection&#45;pipeline&#45;hf44h&#45;3588809735</title>\n",
       "<path fill=\"none\" stroke=\"black\" d=\"M125,-143.7C125,-135.98 125,-126.71 125,-118.11\"/>\n",
       "<polygon fill=\"black\" stroke=\"black\" points=\"128.5,-118.1 125,-108.1 121.5,-118.1 128.5,-118.1\"/>\n",
       "</g>\n",
       "<!-- fraud&#45;detection&#45;pipeline&#45;hf44h&#45;2387924189 -->\n",
       "<g id=\"node3\" class=\"node\">\n",
       "<title>fraud&#45;detection&#45;pipeline&#45;hf44h&#45;2387924189</title>\n",
       "<polygon fill=\"green\" stroke=\"black\" points=\"122,-36 4,-36 0,-32 0,0 118,0 122,-4 122,-36\"/>\n",
       "<polyline fill=\"none\" stroke=\"black\" points=\"118,-32 0,-32 \"/>\n",
       "<polyline fill=\"none\" stroke=\"black\" points=\"118,-32 118,0 \"/>\n",
       "<polyline fill=\"none\" stroke=\"black\" points=\"118,-32 122,-36 \"/>\n",
       "<text text-anchor=\"middle\" x=\"61\" y=\"-14.3\" font-family=\"Times,serif\" font-size=\"14.00\">deploy&#45;serving</text>\n",
       "</g>\n",
       "<!-- fraud&#45;detection&#45;pipeline&#45;hf44h&#45;3588809735&#45;&gt;fraud&#45;detection&#45;pipeline&#45;hf44h&#45;2387924189 -->\n",
       "<g id=\"edge2\" class=\"edge\">\n",
       "<title>fraud&#45;detection&#45;pipeline&#45;hf44h&#45;3588809735&#45;&gt;fraud&#45;detection&#45;pipeline&#45;hf44h&#45;2387924189</title>\n",
       "<path fill=\"none\" stroke=\"black\" d=\"M110.8,-73.46C102.89,-64.82 92.86,-53.85 83.88,-44.03\"/>\n",
       "<polygon fill=\"black\" stroke=\"black\" points=\"86.3,-41.48 76.96,-36.46 81.13,-46.2 86.3,-41.48\"/>\n",
       "</g>\n",
       "<!-- fraud&#45;detection&#45;pipeline&#45;hf44h&#45;555247248 -->\n",
       "<g id=\"node5\" class=\"node\">\n",
       "<title>fraud&#45;detection&#45;pipeline&#45;hf44h&#45;555247248</title>\n",
       "<ellipse fill=\"green\" stroke=\"black\" cx=\"190\" cy=\"-18\" rx=\"50.09\" ry=\"18\"/>\n",
       "<text text-anchor=\"middle\" x=\"190\" y=\"-14.3\" font-family=\"Times,serif\" font-size=\"14.00\">evaluate</text>\n",
       "</g>\n",
       "<!-- fraud&#45;detection&#45;pipeline&#45;hf44h&#45;3588809735&#45;&gt;fraud&#45;detection&#45;pipeline&#45;hf44h&#45;555247248 -->\n",
       "<g id=\"edge3\" class=\"edge\">\n",
       "<title>fraud&#45;detection&#45;pipeline&#45;hf44h&#45;3588809735&#45;&gt;fraud&#45;detection&#45;pipeline&#45;hf44h&#45;555247248</title>\n",
       "<path fill=\"none\" stroke=\"black\" d=\"M139.43,-73.46C147.77,-64.48 158.45,-52.98 167.84,-42.87\"/>\n",
       "<polygon fill=\"black\" stroke=\"black\" points=\"170.47,-45.18 174.71,-35.47 165.34,-40.41 170.47,-45.18\"/>\n",
       "</g>\n",
       "</g>\n",
       "</svg>\n"
      ],
      "text/plain": [
       "<graphviz.graphs.Digraph at 0x7f562662f640>"
      ]
     },
     "metadata": {},
     "output_type": "display_data"
    },
    {
     "data": {
      "text/html": [
       "<h2>Run Results</h2><h3>[info] Workflow e42ef62b-8c38-4c40-bf2a-baf6e3403c7b finished, state=Succeeded</h3><br>click the hyper links below to see detailed results<br><table border=\"1\" class=\"dataframe\">\n",
       "  <thead>\n",
       "    <tr style=\"text-align: right;\">\n",
       "      <th>uid</th>\n",
       "      <th>start</th>\n",
       "      <th>state</th>\n",
       "      <th>name</th>\n",
       "      <th>parameters</th>\n",
       "      <th>results</th>\n",
       "    </tr>\n",
       "  </thead>\n",
       "  <tbody>\n",
       "    <tr>\n",
       "      <td><div title=\"a8175b81bc034c8a993c1e6754adf990\"><a href=\"https://dashboard.default-tenant.app.llm2.iguazio-cd0.com/mlprojects/fraud-demo-pengw/jobs/monitor/a8175b81bc034c8a993c1e6754adf990/overview\" target=\"_blank\" >...54adf990</a></div></td>\n",
       "      <td>Aug 08 21:58:29</td>\n",
       "      <td>completed</td>\n",
       "      <td>evaluate</td>\n",
       "      <td><div class=\"dictlist\">label_columns=label</div><div class=\"dictlist\">model=store://artifacts/fraud-demo-pengw/transaction_fraud_rf:e42ef62b-8c38-4c40-bf2a-baf6e3403c7b</div><div class=\"dictlist\">drop_columns=label</div></td>\n",
       "      <td><div class=\"dictlist\">evaluation_accuracy=0.992503748125937</div><div class=\"dictlist\">evaluation_f1_score=0.4444444444444444</div><div class=\"dictlist\">evaluation_precision_score=0.5454545454545454</div><div class=\"dictlist\">evaluation_recall_score=0.375</div></td>\n",
       "    </tr>\n",
       "    <tr>\n",
       "      <td><div title=\"83f12c47c7c54fa9ae5e6a974e74d20d\"><a href=\"https://dashboard.default-tenant.app.llm2.iguazio-cd0.com/mlprojects/fraud-demo-pengw/jobs/monitor/83f12c47c7c54fa9ae5e6a974e74d20d/overview\" target=\"_blank\" >...4e74d20d</a></div></td>\n",
       "      <td>Aug 08 21:57:43</td>\n",
       "      <td>completed</td>\n",
       "      <td>train</td>\n",
       "      <td><div class=\"dictlist\">sample=-1</div><div class=\"dictlist\">label_column=label</div><div class=\"dictlist\">test_size=0.1</div></td>\n",
       "      <td><div class=\"dictlist\">best_iteration=1</div><div class=\"dictlist\">accuracy=0.992503748125937</div><div class=\"dictlist\">f1_score=0.4444444444444444</div><div class=\"dictlist\">precision_score=0.5454545454545454</div><div class=\"dictlist\">recall_score=0.375</div></td>\n",
       "    </tr>\n",
       "    <tr>\n",
       "      <td><div title=\"2446bd643b20412ba5aa6289b26fa2c8\"><a href=\"https://dashboard.default-tenant.app.llm2.iguazio-cd0.com/mlprojects/fraud-demo-pengw/jobs/monitor/2446bd643b20412ba5aa6289b26fa2c8/overview\" target=\"_blank\" >...b26fa2c8</a></div></td>\n",
       "      <td>Aug 08 21:57:13</td>\n",
       "      <td>completed</td>\n",
       "      <td>feature-selection</td>\n",
       "      <td><div class=\"dictlist\">output_vector_name=short</div><div class=\"dictlist\">label_column=label</div><div class=\"dictlist\">k=18</div><div class=\"dictlist\">min_votes=2</div><div class=\"dictlist\">ignore_type_errors=True</div></td>\n",
       "      <td><div class=\"dictlist\">top_features_vector=store://feature-vectors/fraud-demo-pengw/short</div></td>\n",
       "    </tr>\n",
       "    <tr>\n",
       "      <td><div title=\"01d86d80ae374a81b4e13efd6de3a680\"><a href=\"https://dashboard.default-tenant.app.llm2.iguazio-cd0.com/mlprojects/fraud-demo-pengw/jobs/monitor/01d86d80ae374a81b4e13efd6de3a680/overview\" target=\"_blank\" >...6de3a680</a></div></td>\n",
       "      <td>Aug 08 21:56:53</td>\n",
       "      <td>completed</td>\n",
       "      <td>get-vector</td>\n",
       "      <td><div class=\"dictlist\">feature_vector=transactions-fraud</div><div class=\"dictlist\">features=[]</div><div class=\"dictlist\">label_feature=labels.label</div><div class=\"dictlist\">target={'name': 'parquet', 'kind': 'parquet'}</div><div class=\"dictlist\">update_stats=True</div></td>\n",
       "      <td><div class=\"dictlist\">feature_vector=transactions-fraud</div><div class=\"dictlist\">feature_vector_uri=store://feature-vectors/fraud-demo-pengw/transactions-fraud:latest</div></td>\n",
       "    </tr>\n",
       "  </tbody>\n",
       "</table>"
      ],
      "text/plain": [
       "<IPython.core.display.HTML object>"
      ]
     },
     "metadata": {},
     "output_type": "display_data"
    }
   ],
   "source": [
    "run_id = project.run(\n",
    "    'main',\n",
    "    arguments={'vector_name':\"transactions-fraud\",\n",
    "                'label_column':\"labels.label\",\n",
    "              }, \n",
    "    dirty=True, watch=True)"
   ]
  },
  {
   "cell_type": "markdown",
   "metadata": {},
   "source": [
    "![UI - WorkFlow](images/pipline-ui.png)"
   ]
  },
  {
   "cell_type": "markdown",
   "metadata": {},
   "source": [
    "## Test the model endpoint\n"
   ]
  },
  {
   "cell_type": "markdown",
   "metadata": {},
   "source": [
    "Now that your model is deployed using the pipeline, you can invoke it as usual:"
   ]
  },
  {
   "cell_type": "code",
   "execution_count": 356,
   "metadata": {},
   "outputs": [
    {
     "name": "stdout",
     "output_type": "stream",
     "text": [
      "> 2023-08-08 22:00:01,010 [info] invoking function: {'method': 'POST', 'path': 'http://nuclio-fraud-demo-pengw-serving.default-tenant.svc.cluster.local:8080/v2/models/fraud/infer'}\n"
     ]
    },
    {
     "data": {
      "text/plain": [
       "{'id': 'db83101d-aa69-47a7-9056-089141ca0b54',\n",
       " 'model_name': 'fraud',\n",
       " 'outputs': [0]}"
      ]
     },
     "execution_count": 356,
     "metadata": {},
     "output_type": "execute_result"
    }
   ],
   "source": [
    "# Define your serving function\n",
    "serving_fn = project.get_function('serving')\n",
    "\n",
    "# Choose an id for your test\n",
    "sample_id = 'C1000148617'\n",
    "model_inference_path = '/v2/models/fraud/infer'\n",
    "\n",
    "# Send our sample ID for predcition\n",
    "serving_fn.invoke(path=model_inference_path,\n",
    "                  body={'inputs': [[sample_id]]})"
   ]
  },
  {
   "cell_type": "markdown",
   "metadata": {},
   "source": [
    "## Done!\n",
    "\n",
    "You've completed Part 4 of the model training with the feature store.\n",
    "Proceed to part 5 to learn how to deploy real-time application pipeline"
   ]
  },
  {
   "cell_type": "code",
   "execution_count": null,
   "metadata": {},
   "outputs": [],
   "source": []
  }
 ],
 "metadata": {
  "kernelspec": {
   "display_name": "proof-reading",
   "language": "python",
   "name": "conda-env-.conda-proof-reading-py"
  },
  "language_info": {
   "codemirror_mode": {
    "name": "ipython",
    "version": 3
   },
   "file_extension": ".py",
   "mimetype": "text/x-python",
   "name": "python",
   "nbconvert_exporter": "python",
   "pygments_lexer": "ipython3",
   "version": "3.9.16"
  }
 },
 "nbformat": 4,
 "nbformat_minor": 4
}
