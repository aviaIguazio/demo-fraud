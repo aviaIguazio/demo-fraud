{
 "cells": [
  {
   "cell_type": "markdown",
   "metadata": {},
   "source": [
    "# Exploratory Data Analysis (EDA)"
   ]
  },
  {
   "cell_type": "markdown",
   "metadata": {},
   "source": [
    "The first step in any data science project is to getting know the data we work with.\n",
    "\n",
    "In this notebook you can see a basic explanatory data analysis on fraud-demo datasets.\n",
    "\n",
    "We will perform a basic statistical analysis that will help us to understand the behaviors of each feature and also examine and find outliers."
   ]
  },
  {
   "cell_type": "code",
   "execution_count": 1,
   "metadata": {},
   "outputs": [],
   "source": [
    "import numpy as np\n",
    "import pandas as pd\n",
    "import matplotlib.pyplot as plt\n",
    "import seaborn as sns\n",
    "import datetime\n",
    "import math\n",
    "import IPython\n",
    "sns.set()"
   ]
  },
  {
   "cell_type": "markdown",
   "metadata": {},
   "source": [
    "First we will load the data and immediately after that, as you can see, we will take a look of small portion of the data just to try and understand what it is about. After that we will start and examine it is main properties:\n",
    "1. The size of the data.\n",
    "2. The different types of features."
   ]
  },
  {
   "cell_type": "code",
   "execution_count": 3,
   "metadata": {},
   "outputs": [],
   "source": [
    "import pandas as pd\n",
    "import mlrun\n",
    "\n",
    "# Fetch the transactions and event datasets from mlrun data samples \n",
    "data_path = mlrun.get_sample_path(\"data/fraud-demo-mlrun-fs-docs/\")\n",
    "transactions_data = pd.read_csv(data_path + \"data.csv\", parse_dates=['timestamp'])\n",
    "user_events_data = pd.read_csv(data_path + \"events.csv\", \n",
    "                               index_col=0, quotechar=\"\\'\", parse_dates=['timestamp'])"
   ]
  },
  {
   "cell_type": "markdown",
   "metadata": {},
   "source": [
    "## Explore the credit transactions dataset"
   ]
  },
  {
   "cell_type": "code",
   "execution_count": 4,
   "metadata": {},
   "outputs": [
    {
     "data": {
      "text/html": [
       "<div>\n",
       "<style scoped>\n",
       "    .dataframe tbody tr th:only-of-type {\n",
       "        vertical-align: middle;\n",
       "    }\n",
       "\n",
       "    .dataframe tbody tr th {\n",
       "        vertical-align: top;\n",
       "    }\n",
       "\n",
       "    .dataframe thead th {\n",
       "        text-align: right;\n",
       "    }\n",
       "</style>\n",
       "<table border=\"1\" class=\"dataframe\">\n",
       "  <thead>\n",
       "    <tr style=\"text-align: right;\">\n",
       "      <th></th>\n",
       "      <th>step</th>\n",
       "      <th>age</th>\n",
       "      <th>gender</th>\n",
       "      <th>zipcodeOri</th>\n",
       "      <th>zipMerchant</th>\n",
       "      <th>category</th>\n",
       "      <th>amount</th>\n",
       "      <th>fraud</th>\n",
       "      <th>timestamp</th>\n",
       "      <th>source</th>\n",
       "      <th>target</th>\n",
       "      <th>device</th>\n",
       "    </tr>\n",
       "  </thead>\n",
       "  <tbody>\n",
       "    <tr>\n",
       "      <th>0</th>\n",
       "      <td>0</td>\n",
       "      <td>4</td>\n",
       "      <td>M</td>\n",
       "      <td>28007</td>\n",
       "      <td>28007</td>\n",
       "      <td>es_transportation</td>\n",
       "      <td>4.55</td>\n",
       "      <td>0</td>\n",
       "      <td>2020-08-30 03:31:42.286213</td>\n",
       "      <td>C1093826151</td>\n",
       "      <td>M348934600</td>\n",
       "      <td>f802e61d76564b7a89a83adcdfa573da</td>\n",
       "    </tr>\n",
       "    <tr>\n",
       "      <th>1</th>\n",
       "      <td>0</td>\n",
       "      <td>2</td>\n",
       "      <td>M</td>\n",
       "      <td>28007</td>\n",
       "      <td>28007</td>\n",
       "      <td>es_transportation</td>\n",
       "      <td>39.68</td>\n",
       "      <td>0</td>\n",
       "      <td>2020-01-09 11:59:46.997703</td>\n",
       "      <td>C352968107</td>\n",
       "      <td>M348934600</td>\n",
       "      <td>38ef7fc3eb7442c8ae64579a483f1d2b</td>\n",
       "    </tr>\n",
       "    <tr>\n",
       "      <th>2</th>\n",
       "      <td>0</td>\n",
       "      <td>4</td>\n",
       "      <td>F</td>\n",
       "      <td>28007</td>\n",
       "      <td>28007</td>\n",
       "      <td>es_transportation</td>\n",
       "      <td>26.89</td>\n",
       "      <td>0</td>\n",
       "      <td>2020-10-18 00:07:23.191276</td>\n",
       "      <td>C2054744914</td>\n",
       "      <td>M1823072687</td>\n",
       "      <td>7a851d0758894078b5846851ae32d5e3</td>\n",
       "    </tr>\n",
       "  </tbody>\n",
       "</table>\n",
       "</div>"
      ],
      "text/plain": [
       "   step age gender  zipcodeOri  zipMerchant           category  amount  fraud  \\\n",
       "0     0   4      M       28007        28007  es_transportation    4.55      0   \n",
       "1     0   2      M       28007        28007  es_transportation   39.68      0   \n",
       "2     0   4      F       28007        28007  es_transportation   26.89      0   \n",
       "\n",
       "                   timestamp       source       target  \\\n",
       "0 2020-08-30 03:31:42.286213  C1093826151   M348934600   \n",
       "1 2020-01-09 11:59:46.997703   C352968107   M348934600   \n",
       "2 2020-10-18 00:07:23.191276  C2054744914  M1823072687   \n",
       "\n",
       "                             device  \n",
       "0  f802e61d76564b7a89a83adcdfa573da  \n",
       "1  38ef7fc3eb7442c8ae64579a483f1d2b  \n",
       "2  7a851d0758894078b5846851ae32d5e3  "
      ]
     },
     "execution_count": 4,
     "metadata": {},
     "output_type": "execute_result"
    }
   ],
   "source": [
    "# Preview\n",
    "transactions_data.head(3)"
   ]
  },
  {
   "cell_type": "code",
   "execution_count": 5,
   "metadata": {},
   "outputs": [
    {
     "data": {
      "text/plain": [
       "step                    int64\n",
       "age                    object\n",
       "gender                 object\n",
       "zipcodeOri              int64\n",
       "zipMerchant             int64\n",
       "category               object\n",
       "amount                float64\n",
       "fraud                   int64\n",
       "timestamp      datetime64[ns]\n",
       "source                 object\n",
       "target                 object\n",
       "device                 object\n",
       "dtype: object"
      ]
     },
     "execution_count": 5,
     "metadata": {},
     "output_type": "execute_result"
    }
   ],
   "source": [
    "# checking the data types per column \n",
    "transactions_data.dtypes"
   ]
  },
  {
   "cell_type": "code",
   "execution_count": 6,
   "metadata": {},
   "outputs": [
    {
     "data": {
      "text/plain": [
       "2    149840\n",
       "3    117110\n",
       "4     86871\n",
       "5     50152\n",
       "1     46509\n",
       "6     21377\n",
       "0      1886\n",
       "U       928\n",
       "Name: age, dtype: int64"
      ]
     },
     "execution_count": 6,
     "metadata": {},
     "output_type": "execute_result"
    }
   ],
   "source": [
    "# Examining the `age` column to understand why it is not an integer\n",
    "transactions_data['age'].value_counts()"
   ]
  },
  {
   "cell_type": "code",
   "execution_count": 7,
   "metadata": {},
   "outputs": [
    {
     "data": {
      "text/html": [
       "<div>\n",
       "<style scoped>\n",
       "    .dataframe tbody tr th:only-of-type {\n",
       "        vertical-align: middle;\n",
       "    }\n",
       "\n",
       "    .dataframe tbody tr th {\n",
       "        vertical-align: top;\n",
       "    }\n",
       "\n",
       "    .dataframe thead th {\n",
       "        text-align: right;\n",
       "    }\n",
       "</style>\n",
       "<table border=\"1\" class=\"dataframe\">\n",
       "  <thead>\n",
       "    <tr style=\"text-align: right;\">\n",
       "      <th></th>\n",
       "      <th>step</th>\n",
       "      <th>age</th>\n",
       "      <th>zipcodeOri</th>\n",
       "      <th>zipMerchant</th>\n",
       "      <th>amount</th>\n",
       "      <th>fraud</th>\n",
       "    </tr>\n",
       "  </thead>\n",
       "  <tbody>\n",
       "    <tr>\n",
       "      <th>count</th>\n",
       "      <td>473745.000000</td>\n",
       "      <td>473745.000000</td>\n",
       "      <td>473745.0</td>\n",
       "      <td>473745.0</td>\n",
       "      <td>473745.000000</td>\n",
       "      <td>473745.000000</td>\n",
       "    </tr>\n",
       "    <tr>\n",
       "      <th>mean</th>\n",
       "      <td>77.698114</td>\n",
       "      <td>3.005889</td>\n",
       "      <td>28007.0</td>\n",
       "      <td>28007.0</td>\n",
       "      <td>38.105695</td>\n",
       "      <td>0.012446</td>\n",
       "    </tr>\n",
       "    <tr>\n",
       "      <th>std</th>\n",
       "      <td>41.991176</td>\n",
       "      <td>1.325787</td>\n",
       "      <td>0.0</td>\n",
       "      <td>0.0</td>\n",
       "      <td>113.887429</td>\n",
       "      <td>0.110863</td>\n",
       "    </tr>\n",
       "    <tr>\n",
       "      <th>min</th>\n",
       "      <td>0.000000</td>\n",
       "      <td>0.000000</td>\n",
       "      <td>28007.0</td>\n",
       "      <td>28007.0</td>\n",
       "      <td>0.000000</td>\n",
       "      <td>0.000000</td>\n",
       "    </tr>\n",
       "    <tr>\n",
       "      <th>25%</th>\n",
       "      <td>42.000000</td>\n",
       "      <td>2.000000</td>\n",
       "      <td>28007.0</td>\n",
       "      <td>28007.0</td>\n",
       "      <td>13.740000</td>\n",
       "      <td>0.000000</td>\n",
       "    </tr>\n",
       "    <tr>\n",
       "      <th>50%</th>\n",
       "      <td>80.000000</td>\n",
       "      <td>3.000000</td>\n",
       "      <td>28007.0</td>\n",
       "      <td>28007.0</td>\n",
       "      <td>26.890000</td>\n",
       "      <td>0.000000</td>\n",
       "    </tr>\n",
       "    <tr>\n",
       "      <th>75%</th>\n",
       "      <td>114.000000</td>\n",
       "      <td>4.000000</td>\n",
       "      <td>28007.0</td>\n",
       "      <td>28007.0</td>\n",
       "      <td>42.530000</td>\n",
       "      <td>0.000000</td>\n",
       "    </tr>\n",
       "    <tr>\n",
       "      <th>max</th>\n",
       "      <td>147.000000</td>\n",
       "      <td>6.000000</td>\n",
       "      <td>28007.0</td>\n",
       "      <td>28007.0</td>\n",
       "      <td>7665.560000</td>\n",
       "      <td>1.000000</td>\n",
       "    </tr>\n",
       "  </tbody>\n",
       "</table>\n",
       "</div>"
      ],
      "text/plain": [
       "                step            age  zipcodeOri  zipMerchant         amount  \\\n",
       "count  473745.000000  473745.000000    473745.0     473745.0  473745.000000   \n",
       "mean       77.698114       3.005889     28007.0      28007.0      38.105695   \n",
       "std        41.991176       1.325787         0.0          0.0     113.887429   \n",
       "min         0.000000       0.000000     28007.0      28007.0       0.000000   \n",
       "25%        42.000000       2.000000     28007.0      28007.0      13.740000   \n",
       "50%        80.000000       3.000000     28007.0      28007.0      26.890000   \n",
       "75%       114.000000       4.000000     28007.0      28007.0      42.530000   \n",
       "max       147.000000       6.000000     28007.0      28007.0    7665.560000   \n",
       "\n",
       "               fraud  \n",
       "count  473745.000000  \n",
       "mean        0.012446  \n",
       "std         0.110863  \n",
       "min         0.000000  \n",
       "25%         0.000000  \n",
       "50%         0.000000  \n",
       "75%         0.000000  \n",
       "max         1.000000  "
      ]
     },
     "execution_count": 7,
     "metadata": {},
     "output_type": "execute_result"
    }
   ],
   "source": [
    "# Dropping the columns with Unknown (U) age and converting to int\n",
    "transactions_data = transactions_data[transactions_data.age != \"U\"]\n",
    "transactions_data['age'] = transactions_data['age'].astype(int)\n",
    "\n",
    "# Describe the column statistics\n",
    "transactions_data.describe()"
   ]
  },
  {
   "cell_type": "code",
   "execution_count": 12,
   "metadata": {},
   "outputs": [
    {
     "data": {
      "text/plain": [
       "0    467849\n",
       "1      5896\n",
       "Name: fraud, dtype: int64"
      ]
     },
     "execution_count": 12,
     "metadata": {},
     "output_type": "execute_result"
    }
   ],
   "source": [
    "# Check how many transactions are fraudulent\n",
    "transactions_data['fraud'].value_counts()"
   ]
  },
  {
   "cell_type": "code",
   "execution_count": 9,
   "metadata": {},
   "outputs": [
    {
     "data": {
      "text/plain": [
       "F    258905\n",
       "M    214414\n",
       "U       426\n",
       "Name: gender, dtype: int64"
      ]
     },
     "execution_count": 9,
     "metadata": {},
     "output_type": "execute_result"
    }
   ],
   "source": [
    "transactions_data['gender'].value_counts()"
   ]
  },
  {
   "cell_type": "code",
   "execution_count": 13,
   "metadata": {},
   "outputs": [
    {
     "data": {
      "image/png": "[encoded data removed]",
      "text/plain": [
       "<Figure size 432x288 with 1 Axes>"
      ]
     },
     "metadata": {},
     "output_type": "display_data"
    }
   ],
   "source": [
    "# Create the pie chart\n",
    "plt.pie(transactions_data['gender'].value_counts(), labels=['Male', 'Female', 'Unknown'], autopct='%1.1f%%', startangle=90)\n",
    "\n",
    "# Add a title\n",
    "plt.title('Distribution of gender (bias)')\n",
    "\n",
    "# Display the chart\n",
    "plt.show()"
   ]
  },
  {
   "cell_type": "code",
   "execution_count": 14,
   "metadata": {},
   "outputs": [
    {
     "data": {
      "image/png": "[encoded data removed]",
      "text/plain": [
       "<Figure size 432x288 with 1 Axes>"
      ]
     },
     "metadata": {
      "needs_background": "light"
     },
     "output_type": "display_data"
    }
   ],
   "source": [
    "# Count the occurrences of each category\n",
    "category_counts = transactions_data['category'].value_counts()\n",
    "\n",
    "# Plot the results as a bar plot\n",
    "category_counts.plot(kind='bar', )\n",
    "\n",
    "# Set labels and title\n",
    "plt.xlabel('Category')\n",
    "plt.ylabel('Count')\n",
    "plt.title('Distribution of Categories')\n",
    "plt.xticks(rotation=80)\n",
    "\n",
    "# Show the plot\n",
    "plt.show()"
   ]
  },
  {
   "cell_type": "code",
   "execution_count": 15,
   "metadata": {},
   "outputs": [],
   "source": [
    "transactions_data[\"timestamp\"] = pd.to_datetime(\n",
    "        transactions_data[\"timestamp\"], format=\"%Y-%m-%d %H:%M:%S UTC\"\n",
    "    )\n",
    "\n",
    "transactions_data[\"hour\"] = transactions_data.timestamp.dt.hour\n",
    "transactions_data[\"day\"] = transactions_data.timestamp.dt.day\n",
    "transactions_data[\"month\"] = transactions_data.timestamp.dt.month\n",
    "transactions_data[\"weekday\"] = transactions_data.timestamp.dt.weekday\n",
    "transactions_data[\"year\"] = transactions_data.timestamp.dt.year"
   ]
  },
  {
   "cell_type": "code",
   "execution_count": 17,
   "metadata": {},
   "outputs": [
    {
     "data": {
      "text/plain": [
       "Text(0.5, 1.0, 'Count of fraud/not fraud grouped by hour')"
      ]
     },
     "execution_count": 17,
     "metadata": {},
     "output_type": "execute_result"
    },
    {
     "data": {
      "image/png": "[encoded data removed]",
      "text/plain": [
       "<Figure size 432x288 with 1 Axes>"
      ]
     },
     "metadata": {
      "needs_background": "light"
     },
     "output_type": "display_data"
    }
   ],
   "source": [
    "grouped = transactions_data.groupby('hour')['fraud'].value_counts().unstack().fillna(0)\n",
    "# Plot the results\n",
    "grouped.plot(kind='bar', stacked=True)\n",
    "\n",
    "# Set labels and title\n",
    "plt.xlabel('Houre')\n",
    "plt.ylabel('Count')\n",
    "plt.title('Count of fraud/not fraud grouped by hour')"
   ]
  },
  {
   "cell_type": "code",
   "execution_count": 21,
   "metadata": {},
   "outputs": [
    {
     "data": {
      "text/plain": [
       "Text(0.5, 1.0, 'Count of fraud/not fraud for each day of the week')"
      ]
     },
     "execution_count": 21,
     "metadata": {},
     "output_type": "execute_result"
    },
    {
     "data": {
      "image/png": "[encoded data removed]",
      "text/plain": [
       "<Figure size 432x288 with 1 Axes>"
      ]
     },
     "metadata": {
      "needs_background": "light"
     },
     "output_type": "display_data"
    }
   ],
   "source": [
    "grouped = transactions_data.groupby('weekday')['fraud'].value_counts() \\\n",
    "    .unstack().fillna(0)\n",
    "# Plot the results\n",
    "grouped.plot(kind='bar', stacked=True)\n",
    "\n",
    "# Set labels and title\n",
    "plt.xlabel('Day')\n",
    "plt.ylabel('Count')\n",
    "plt.title('Count of fraud/not fraud for each day of the week')"
   ]
  },
  {
   "cell_type": "markdown",
   "metadata": {},
   "source": [
    "## Explore the user events dataset"
   ]
  },
  {
   "cell_type": "code",
   "execution_count": 14,
   "metadata": {},
   "outputs": [
    {
     "data": {
      "text/html": [
       "<div>\n",
       "<style scoped>\n",
       "    .dataframe tbody tr th:only-of-type {\n",
       "        vertical-align: middle;\n",
       "    }\n",
       "\n",
       "    .dataframe tbody tr th {\n",
       "        vertical-align: top;\n",
       "    }\n",
       "\n",
       "    .dataframe thead th {\n",
       "        text-align: right;\n",
       "    }\n",
       "</style>\n",
       "<table border=\"1\" class=\"dataframe\">\n",
       "  <thead>\n",
       "    <tr style=\"text-align: right;\">\n",
       "      <th></th>\n",
       "      <th>source</th>\n",
       "      <th>event</th>\n",
       "      <th>timestamp</th>\n",
       "    </tr>\n",
       "  </thead>\n",
       "  <tbody>\n",
       "    <tr>\n",
       "      <th>0</th>\n",
       "      <td>C1974668487</td>\n",
       "      <td>details_change</td>\n",
       "      <td>2020-09-19 15:12:26.321576</td>\n",
       "    </tr>\n",
       "    <tr>\n",
       "      <th>1</th>\n",
       "      <td>C1973547259</td>\n",
       "      <td>login</td>\n",
       "      <td>2020-10-12 15:28:25.703053</td>\n",
       "    </tr>\n",
       "    <tr>\n",
       "      <th>2</th>\n",
       "      <td>C515668508</td>\n",
       "      <td>login</td>\n",
       "      <td>2020-09-16 10:10:50.498604</td>\n",
       "    </tr>\n",
       "    <tr>\n",
       "      <th>3</th>\n",
       "      <td>C1721541488</td>\n",
       "      <td>details_change</td>\n",
       "      <td>2020-10-02 13:59:25.553802</td>\n",
       "    </tr>\n",
       "    <tr>\n",
       "      <th>4</th>\n",
       "      <td>C394979408</td>\n",
       "      <td>password_change</td>\n",
       "      <td>2020-10-14 23:27:41.291391</td>\n",
       "    </tr>\n",
       "  </tbody>\n",
       "</table>\n",
       "</div>"
      ],
      "text/plain": [
       "        source            event                  timestamp\n",
       "0  C1974668487   details_change 2020-09-19 15:12:26.321576\n",
       "1  C1973547259            login 2020-10-12 15:28:25.703053\n",
       "2   C515668508            login 2020-09-16 10:10:50.498604\n",
       "3  C1721541488   details_change 2020-10-02 13:59:25.553802\n",
       "4   C394979408  password_change 2020-10-14 23:27:41.291391"
      ]
     },
     "execution_count": 14,
     "metadata": {},
     "output_type": "execute_result"
    }
   ],
   "source": [
    "# View a sample of the events dataset\n",
    "user_events_data.head()"
   ]
  },
  {
   "cell_type": "code",
   "execution_count": 23,
   "metadata": {},
   "outputs": [
    {
     "data": {
      "image/png": "[encoded data removed]",
      "text/plain": [
       "<Figure size 432x288 with 1 Axes>"
      ]
     },
     "metadata": {
      "needs_background": "light"
     },
     "output_type": "display_data"
    }
   ],
   "source": [
    "# Count the occurrences of each event category\n",
    "category_counts = user_events_data['event'].value_counts()\n",
    "\n",
    "# Plot the results as a bar plot\n",
    "category_counts.plot(kind='bar', )\n",
    "\n",
    "# Set labels and title\n",
    "plt.xlabel('Event')\n",
    "plt.ylabel('Count')\n",
    "plt.title('Distribution of Event Categories')\n",
    "plt.xticks(rotation=80)\n",
    "\n",
    "# Show the plot\n",
    "plt.show()"
   ]
  },
  {
   "cell_type": "markdown",
   "metadata": {},
   "source": [
    "## Build and explore the feature vector"
   ]
  },
  {
   "cell_type": "code",
   "execution_count": 24,
   "metadata": {},
   "outputs": [],
   "source": [
    "# Sorting the two datasets by time\n",
    "transactions_data = transactions_data.sort_values(by='timestamp', axis=0)\n",
    "user_events_data = user_events_data.sort_values(by='timestamp', axis=0)"
   ]
  },
  {
   "cell_type": "code",
   "execution_count": 28,
   "metadata": {},
   "outputs": [
    {
     "data": {
      "text/html": [
       "<div>\n",
       "<style scoped>\n",
       "    .dataframe tbody tr th:only-of-type {\n",
       "        vertical-align: middle;\n",
       "    }\n",
       "\n",
       "    .dataframe tbody tr th {\n",
       "        vertical-align: top;\n",
       "    }\n",
       "\n",
       "    .dataframe thead th {\n",
       "        text-align: right;\n",
       "    }\n",
       "</style>\n",
       "<table border=\"1\" class=\"dataframe\">\n",
       "  <thead>\n",
       "    <tr style=\"text-align: right;\">\n",
       "      <th></th>\n",
       "      <th>step</th>\n",
       "      <th>age</th>\n",
       "      <th>gender</th>\n",
       "      <th>zipcodeOri</th>\n",
       "      <th>zipMerchant</th>\n",
       "      <th>category</th>\n",
       "      <th>amount</th>\n",
       "      <th>fraud</th>\n",
       "      <th>timestamp</th>\n",
       "      <th>hour</th>\n",
       "      <th>day</th>\n",
       "      <th>month</th>\n",
       "      <th>weekday</th>\n",
       "      <th>year</th>\n",
       "      <th>event</th>\n",
       "    </tr>\n",
       "  </thead>\n",
       "  <tbody>\n",
       "    <tr>\n",
       "      <th>280869</th>\n",
       "      <td>137</td>\n",
       "      <td>2</td>\n",
       "      <td>F</td>\n",
       "      <td>28007</td>\n",
       "      <td>28007</td>\n",
       "      <td>es_transportation</td>\n",
       "      <td>45.29</td>\n",
       "      <td>0</td>\n",
       "      <td>2020-07-14 20:40:18.989269</td>\n",
       "      <td>20</td>\n",
       "      <td>14</td>\n",
       "      <td>7</td>\n",
       "      <td>1</td>\n",
       "      <td>2020</td>\n",
       "      <td>login</td>\n",
       "    </tr>\n",
       "    <tr>\n",
       "      <th>270343</th>\n",
       "      <td>27</td>\n",
       "      <td>2</td>\n",
       "      <td>F</td>\n",
       "      <td>28007</td>\n",
       "      <td>28007</td>\n",
       "      <td>es_transportation</td>\n",
       "      <td>9.32</td>\n",
       "      <td>0</td>\n",
       "      <td>2020-07-06 15:04:58.452371</td>\n",
       "      <td>15</td>\n",
       "      <td>6</td>\n",
       "      <td>7</td>\n",
       "      <td>0</td>\n",
       "      <td>2020</td>\n",
       "      <td>password_change</td>\n",
       "    </tr>\n",
       "    <tr>\n",
       "      <th>378166</th>\n",
       "      <td>9</td>\n",
       "      <td>3</td>\n",
       "      <td>F</td>\n",
       "      <td>28007</td>\n",
       "      <td>28007</td>\n",
       "      <td>es_transportation</td>\n",
       "      <td>37.31</td>\n",
       "      <td>0</td>\n",
       "      <td>2020-09-27 18:22:31.005277</td>\n",
       "      <td>18</td>\n",
       "      <td>27</td>\n",
       "      <td>9</td>\n",
       "      <td>6</td>\n",
       "      <td>2020</td>\n",
       "      <td>details_change</td>\n",
       "    </tr>\n",
       "    <tr>\n",
       "      <th>263804</th>\n",
       "      <td>20</td>\n",
       "      <td>3</td>\n",
       "      <td>F</td>\n",
       "      <td>28007</td>\n",
       "      <td>28007</td>\n",
       "      <td>es_transportation</td>\n",
       "      <td>39.37</td>\n",
       "      <td>0</td>\n",
       "      <td>2020-07-01 14:01:30.419984</td>\n",
       "      <td>14</td>\n",
       "      <td>1</td>\n",
       "      <td>7</td>\n",
       "      <td>2</td>\n",
       "      <td>2020</td>\n",
       "      <td>details_change</td>\n",
       "    </tr>\n",
       "    <tr>\n",
       "      <th>283975</th>\n",
       "      <td>106</td>\n",
       "      <td>2</td>\n",
       "      <td>M</td>\n",
       "      <td>28007</td>\n",
       "      <td>28007</td>\n",
       "      <td>es_wellnessandbeauty</td>\n",
       "      <td>40.82</td>\n",
       "      <td>0</td>\n",
       "      <td>2020-07-17 06:45:28.982259</td>\n",
       "      <td>6</td>\n",
       "      <td>17</td>\n",
       "      <td>7</td>\n",
       "      <td>4</td>\n",
       "      <td>2020</td>\n",
       "      <td>password_change</td>\n",
       "    </tr>\n",
       "  </tbody>\n",
       "</table>\n",
       "</div>"
      ],
      "text/plain": [
       "        step  age gender  zipcodeOri  zipMerchant              category  \\\n",
       "280869   137    2      F       28007        28007     es_transportation   \n",
       "270343    27    2      F       28007        28007     es_transportation   \n",
       "378166     9    3      F       28007        28007     es_transportation   \n",
       "263804    20    3      F       28007        28007     es_transportation   \n",
       "283975   106    2      M       28007        28007  es_wellnessandbeauty   \n",
       "\n",
       "        amount  fraud                  timestamp  hour  day  month  weekday  \\\n",
       "280869   45.29      0 2020-07-14 20:40:18.989269    20   14      7        1   \n",
       "270343    9.32      0 2020-07-06 15:04:58.452371    15    6      7        0   \n",
       "378166   37.31      0 2020-09-27 18:22:31.005277    18   27      9        6   \n",
       "263804   39.37      0 2020-07-01 14:01:30.419984    14    1      7        2   \n",
       "283975   40.82      0 2020-07-17 06:45:28.982259     6   17      7        4   \n",
       "\n",
       "        year            event  \n",
       "280869  2020            login  \n",
       "270343  2020  password_change  \n",
       "378166  2020   details_change  \n",
       "263804  2020   details_change  \n",
       "283975  2020  password_change  "
      ]
     },
     "execution_count": 28,
     "metadata": {},
     "output_type": "execute_result"
    }
   ],
   "source": [
    "# Merge asof (with time traveling)\n",
    "all_data  = pd.merge_asof(\n",
    "    transactions_data,\n",
    "    user_events_data,\n",
    "    on='timestamp',\n",
    "    by='source',\n",
    ")\n",
    "\n",
    "# Plot a sample of the interesting columns\n",
    "all_data.drop(columns=[\"device\", \"source\", \"target\"]).sample(5)"
   ]
  },
  {
   "cell_type": "code",
   "execution_count": 30,
   "metadata": {},
   "outputs": [
    {
     "data": {
      "text/plain": [
       "(473745, 18)"
      ]
     },
     "execution_count": 30,
     "metadata": {},
     "output_type": "execute_result"
    }
   ],
   "source": [
    "all_data.shape"
   ]
  },
  {
   "cell_type": "code",
   "execution_count": 29,
   "metadata": {},
   "outputs": [
    {
     "data": {
      "text/plain": [
       "step                    int64\n",
       "age                     int64\n",
       "gender                 object\n",
       "zipcodeOri              int64\n",
       "zipMerchant             int64\n",
       "category               object\n",
       "amount                float64\n",
       "fraud                   int64\n",
       "timestamp      datetime64[ns]\n",
       "source                 object\n",
       "target                 object\n",
       "device                 object\n",
       "hour                    int64\n",
       "day                     int64\n",
       "month                   int64\n",
       "weekday                 int64\n",
       "year                    int64\n",
       "event                  object\n",
       "dtype: object"
      ]
     },
     "execution_count": 29,
     "metadata": {},
     "output_type": "execute_result"
    }
   ],
   "source": [
    "all_data.dtypes"
   ]
  },
  {
   "cell_type": "markdown",
   "metadata": {},
   "source": [
    "Now we will start and examine the statistical characteristics of each feature, initial information that can give us different directions in finding outliers, dummies, etc."
   ]
  },
  {
   "cell_type": "code",
   "execution_count": 31,
   "metadata": {},
   "outputs": [
    {
     "data": {
      "text/html": [
       "<div>\n",
       "<style scoped>\n",
       "    .dataframe tbody tr th:only-of-type {\n",
       "        vertical-align: middle;\n",
       "    }\n",
       "\n",
       "    .dataframe tbody tr th {\n",
       "        vertical-align: top;\n",
       "    }\n",
       "\n",
       "    .dataframe thead th {\n",
       "        text-align: right;\n",
       "    }\n",
       "</style>\n",
       "<table border=\"1\" class=\"dataframe\">\n",
       "  <thead>\n",
       "    <tr style=\"text-align: right;\">\n",
       "      <th></th>\n",
       "      <th>step</th>\n",
       "      <th>age</th>\n",
       "      <th>zipcodeOri</th>\n",
       "      <th>zipMerchant</th>\n",
       "      <th>amount</th>\n",
       "      <th>fraud</th>\n",
       "      <th>hour</th>\n",
       "      <th>day</th>\n",
       "      <th>month</th>\n",
       "      <th>weekday</th>\n",
       "      <th>year</th>\n",
       "    </tr>\n",
       "  </thead>\n",
       "  <tbody>\n",
       "    <tr>\n",
       "      <th>count</th>\n",
       "      <td>473745.000000</td>\n",
       "      <td>473745.000000</td>\n",
       "      <td>473745.0</td>\n",
       "      <td>473745.0</td>\n",
       "      <td>473745.000000</td>\n",
       "      <td>473745.000000</td>\n",
       "      <td>473745.000000</td>\n",
       "      <td>473745.000000</td>\n",
       "      <td>473745.000000</td>\n",
       "      <td>473745.000000</td>\n",
       "      <td>473745.000000</td>\n",
       "    </tr>\n",
       "    <tr>\n",
       "      <th>mean</th>\n",
       "      <td>77.698114</td>\n",
       "      <td>3.005889</td>\n",
       "      <td>28007.0</td>\n",
       "      <td>28007.0</td>\n",
       "      <td>38.105695</td>\n",
       "      <td>0.012446</td>\n",
       "      <td>11.486950</td>\n",
       "      <td>15.776213</td>\n",
       "      <td>6.495898</td>\n",
       "      <td>3.001053</td>\n",
       "      <td>2019.943778</td>\n",
       "    </tr>\n",
       "    <tr>\n",
       "      <th>std</th>\n",
       "      <td>41.991176</td>\n",
       "      <td>1.325787</td>\n",
       "      <td>0.0</td>\n",
       "      <td>0.0</td>\n",
       "      <td>113.887429</td>\n",
       "      <td>0.110863</td>\n",
       "      <td>6.926089</td>\n",
       "      <td>8.820079</td>\n",
       "      <td>3.445879</td>\n",
       "      <td>1.999216</td>\n",
       "      <td>0.230351</td>\n",
       "    </tr>\n",
       "    <tr>\n",
       "      <th>min</th>\n",
       "      <td>0.000000</td>\n",
       "      <td>0.000000</td>\n",
       "      <td>28007.0</td>\n",
       "      <td>28007.0</td>\n",
       "      <td>0.000000</td>\n",
       "      <td>0.000000</td>\n",
       "      <td>0.000000</td>\n",
       "      <td>1.000000</td>\n",
       "      <td>1.000000</td>\n",
       "      <td>0.000000</td>\n",
       "      <td>2019.000000</td>\n",
       "    </tr>\n",
       "    <tr>\n",
       "      <th>25%</th>\n",
       "      <td>42.000000</td>\n",
       "      <td>2.000000</td>\n",
       "      <td>28007.0</td>\n",
       "      <td>28007.0</td>\n",
       "      <td>13.740000</td>\n",
       "      <td>0.000000</td>\n",
       "      <td>5.000000</td>\n",
       "      <td>8.000000</td>\n",
       "      <td>4.000000</td>\n",
       "      <td>1.000000</td>\n",
       "      <td>2020.000000</td>\n",
       "    </tr>\n",
       "    <tr>\n",
       "      <th>50%</th>\n",
       "      <td>80.000000</td>\n",
       "      <td>3.000000</td>\n",
       "      <td>28007.0</td>\n",
       "      <td>28007.0</td>\n",
       "      <td>26.890000</td>\n",
       "      <td>0.000000</td>\n",
       "      <td>11.000000</td>\n",
       "      <td>16.000000</td>\n",
       "      <td>7.000000</td>\n",
       "      <td>3.000000</td>\n",
       "      <td>2020.000000</td>\n",
       "    </tr>\n",
       "    <tr>\n",
       "      <th>75%</th>\n",
       "      <td>114.000000</td>\n",
       "      <td>4.000000</td>\n",
       "      <td>28007.0</td>\n",
       "      <td>28007.0</td>\n",
       "      <td>42.530000</td>\n",
       "      <td>0.000000</td>\n",
       "      <td>18.000000</td>\n",
       "      <td>23.000000</td>\n",
       "      <td>9.000000</td>\n",
       "      <td>5.000000</td>\n",
       "      <td>2020.000000</td>\n",
       "    </tr>\n",
       "    <tr>\n",
       "      <th>max</th>\n",
       "      <td>147.000000</td>\n",
       "      <td>6.000000</td>\n",
       "      <td>28007.0</td>\n",
       "      <td>28007.0</td>\n",
       "      <td>7665.560000</td>\n",
       "      <td>1.000000</td>\n",
       "      <td>23.000000</td>\n",
       "      <td>31.000000</td>\n",
       "      <td>12.000000</td>\n",
       "      <td>6.000000</td>\n",
       "      <td>2020.000000</td>\n",
       "    </tr>\n",
       "  </tbody>\n",
       "</table>\n",
       "</div>"
      ],
      "text/plain": [
       "                step            age  zipcodeOri  zipMerchant         amount  \\\n",
       "count  473745.000000  473745.000000    473745.0     473745.0  473745.000000   \n",
       "mean       77.698114       3.005889     28007.0      28007.0      38.105695   \n",
       "std        41.991176       1.325787         0.0          0.0     113.887429   \n",
       "min         0.000000       0.000000     28007.0      28007.0       0.000000   \n",
       "25%        42.000000       2.000000     28007.0      28007.0      13.740000   \n",
       "50%        80.000000       3.000000     28007.0      28007.0      26.890000   \n",
       "75%       114.000000       4.000000     28007.0      28007.0      42.530000   \n",
       "max       147.000000       6.000000     28007.0      28007.0    7665.560000   \n",
       "\n",
       "               fraud           hour            day          month  \\\n",
       "count  473745.000000  473745.000000  473745.000000  473745.000000   \n",
       "mean        0.012446      11.486950      15.776213       6.495898   \n",
       "std         0.110863       6.926089       8.820079       3.445879   \n",
       "min         0.000000       0.000000       1.000000       1.000000   \n",
       "25%         0.000000       5.000000       8.000000       4.000000   \n",
       "50%         0.000000      11.000000      16.000000       7.000000   \n",
       "75%         0.000000      18.000000      23.000000       9.000000   \n",
       "max         1.000000      23.000000      31.000000      12.000000   \n",
       "\n",
       "             weekday           year  \n",
       "count  473745.000000  473745.000000  \n",
       "mean        3.001053    2019.943778  \n",
       "std         1.999216       0.230351  \n",
       "min         0.000000    2019.000000  \n",
       "25%         1.000000    2020.000000  \n",
       "50%         3.000000    2020.000000  \n",
       "75%         5.000000    2020.000000  \n",
       "max         6.000000    2020.000000  "
      ]
     },
     "execution_count": 31,
     "metadata": {},
     "output_type": "execute_result"
    }
   ],
   "source": [
    "all_data.describe()"
   ]
  },
  {
   "cell_type": "markdown",
   "metadata": {},
   "source": [
    "Another interesting thing is to see the distribution of other tagret to be able select our metrics better."
   ]
  },
  {
   "cell_type": "code",
   "execution_count": 33,
   "metadata": {},
   "outputs": [],
   "source": [
    "# Extend categorical features (one hot encoding)\n",
    "all_data = pd.get_dummies(all_data, columns=['category', 'gender', 'event'])"
   ]
  },
  {
   "cell_type": "markdown",
   "metadata": {},
   "source": [
    "When we have a dimension of time in the data, a good practice is to look at the distribution of features against our time, of course after breaking down the time into days, hours, months, etc.\n",
    "\n",
    "Here you can see the distribution of the the fraud vs time."
   ]
  },
  {
   "cell_type": "markdown",
   "metadata": {},
   "source": [
    "Correlation Matrix"
   ]
  },
  {
   "cell_type": "code",
   "execution_count": 34,
   "metadata": {},
   "outputs": [
    {
     "data": {
      "image/png": "[encoded data removed]",
      "text/plain": [
       "<Figure size 864x720 with 2 Axes>"
      ]
     },
     "metadata": {
      "needs_background": "light"
     },
     "output_type": "display_data"
    }
   ],
   "source": [
    "# \n",
    "corr = all_data.corr()\n",
    "plt.figure(figsize=(12, 10))\n",
    "\n",
    "sns.heatmap(corr[(corr >= 0.1) | (corr <= -0.1)], \n",
    "            cmap='viridis', vmax=1.0, vmin=-1.0, linewidths=0.1,\n",
    "            annot=True, annot_kws={\"size\": 8}, square=True);"
   ]
  },
  {
   "cell_type": "markdown",
   "metadata": {},
   "source": [
    "## Data Analyis with MLRUN\n",
    "\n",
    "You can see by simply running the describe function from our Market Place you can get a lot of information about the data and perform a qualitative and in-depth analysis on it."
   ]
  },
  {
   "cell_type": "code",
   "execution_count": 37,
   "metadata": {},
   "outputs": [
    {
     "name": "stdout",
     "output_type": "stream",
     "text": [
      "> 2023-06-21 10:53:55,169 [info] Loaded project fraud-eda from ./ and saved in MLRun DB\n",
      "> 2023-06-21 10:53:55,580 [info] Storing function: {'name': 'describe-analyze', 'uid': '3d275b269dc745a18df044e3e3dd8d8c', 'db': 'http://mlrun-api:8080'}\n",
      "> 2023-06-21 10:54:01,618 [info] The data set is logged to the project under dataset name\n"
     ]
    },
    {
     "data": {
      "text/html": [
       "<style>\n",
       ".dictlist {\n",
       "  background-color: #4EC64B;\n",
       "  text-align: center;\n",
       "  margin: 4px;\n",
       "  border-radius: 3px; padding: 0px 3px 1px 3px; display: inline-block;}\n",
       ".artifact {\n",
       "  cursor: pointer;\n",
       "  background-color: #4EC64B;\n",
       "  text-align: left;\n",
       "  margin: 4px; border-radius: 3px; padding: 0px 3px 1px 3px; display: inline-block;\n",
       "}\n",
       "div.block.hidden {\n",
       "  display: none;\n",
       "}\n",
       ".clickable {\n",
       "  cursor: pointer;\n",
       "}\n",
       ".ellipsis {\n",
       "  display: inline-block;\n",
       "  max-width: 60px;\n",
       "  white-space: nowrap;\n",
       "  overflow: hidden;\n",
       "  text-overflow: ellipsis;\n",
       "}\n",
       ".master-wrapper {\n",
       "  display: flex;\n",
       "  flex-flow: row nowrap;\n",
       "  justify-content: flex-start;\n",
       "  align-items: stretch;\n",
       "}\n",
       ".master-tbl {\n",
       "  flex: 3\n",
       "}\n",
       ".master-wrapper > div {\n",
       "  margin: 4px;\n",
       "  padding: 10px;\n",
       "}\n",
       "iframe.fileview {\n",
       "  border: 0 none;\n",
       "  height: 100%;\n",
       "  width: 100%;\n",
       "  white-space: pre-wrap;\n",
       "}\n",
       ".pane-header-title {\n",
       "  width: 80%;\n",
       "  font-weight: 500;\n",
       "}\n",
       ".pane-header {\n",
       "  line-height: 1;\n",
       "  background-color: #4EC64B;\n",
       "  padding: 3px;\n",
       "}\n",
       ".pane-header .close {\n",
       "  font-size: 20px;\n",
       "  font-weight: 700;\n",
       "  float: right;\n",
       "  margin-top: -5px;\n",
       "}\n",
       ".master-wrapper .right-pane {\n",
       "  border: 1px inset silver;\n",
       "  width: 40%;\n",
       "  min-height: 300px;\n",
       "  flex: 3\n",
       "  min-width: 500px;\n",
       "}\n",
       ".master-wrapper * {\n",
       "  box-sizing: border-box;\n",
       "}\n",
       "</style><script>\n",
       "function copyToClipboard(fld) {\n",
       "    if (document.queryCommandSupported && document.queryCommandSupported('copy')) {\n",
       "        var textarea = document.createElement('textarea');\n",
       "        textarea.textContent = fld.innerHTML;\n",
       "        textarea.style.position = 'fixed';\n",
       "        document.body.appendChild(textarea);\n",
       "        textarea.select();\n",
       "\n",
       "        try {\n",
       "            return document.execCommand('copy'); // Security exception may be thrown by some browsers.\n",
       "        } catch (ex) {\n",
       "\n",
       "        } finally {\n",
       "            document.body.removeChild(textarea);\n",
       "        }\n",
       "    }\n",
       "}\n",
       "function expandPanel(el) {\n",
       "  const panelName = \"#\" + el.getAttribute('paneName');\n",
       "  console.log(el.title);\n",
       "\n",
       "  document.querySelector(panelName + \"-title\").innerHTML = el.title\n",
       "  iframe = document.querySelector(panelName + \"-body\");\n",
       "\n",
       "  const tblcss = `<style> body { font-family: Arial, Helvetica, sans-serif;}\n",
       "    #csv { margin-bottom: 15px; }\n",
       "    #csv table { border-collapse: collapse;}\n",
       "    #csv table td { padding: 4px 8px; border: 1px solid silver;} </style>`;\n",
       "\n",
       "  function csvToHtmlTable(str) {\n",
       "    return '<div id=\"csv\"><table><tr><td>' +  str.replace(/[\\n\\r]+$/g, '').replace(/[\\n\\r]+/g, '</td></tr><tr><td>')\n",
       "      .replace(/,/g, '</td><td>') + '</td></tr></table></div>';\n",
       "  }\n",
       "\n",
       "  function reqListener () {\n",
       "    if (el.title.endsWith(\".csv\")) {\n",
       "      iframe.setAttribute(\"srcdoc\", tblcss + csvToHtmlTable(this.responseText));\n",
       "    } else {\n",
       "      iframe.setAttribute(\"srcdoc\", this.responseText);\n",
       "    }\n",
       "    console.log(this.responseText);\n",
       "  }\n",
       "\n",
       "  const oReq = new XMLHttpRequest();\n",
       "  oReq.addEventListener(\"load\", reqListener);\n",
       "  oReq.open(\"GET\", el.title);\n",
       "  oReq.send();\n",
       "\n",
       "\n",
       "  //iframe.src = el.title;\n",
       "  const resultPane = document.querySelector(panelName + \"-pane\");\n",
       "  if (resultPane.classList.contains(\"hidden\")) {\n",
       "    resultPane.classList.remove(\"hidden\");\n",
       "  }\n",
       "}\n",
       "function closePanel(el) {\n",
       "  const panelName = \"#\" + el.getAttribute('paneName')\n",
       "  const resultPane = document.querySelector(panelName + \"-pane\");\n",
       "  if (!resultPane.classList.contains(\"hidden\")) {\n",
       "    resultPane.classList.add(\"hidden\");\n",
       "  }\n",
       "}\n",
       "\n",
       "</script>\n",
       "<div class=\"master-wrapper\">\n",
       "  <div class=\"block master-tbl\"><div>\n",
       "<style scoped>\n",
       "    .dataframe tbody tr th:only-of-type {\n",
       "        vertical-align: middle;\n",
       "    }\n",
       "\n",
       "    .dataframe tbody tr th {\n",
       "        vertical-align: top;\n",
       "    }\n",
       "\n",
       "    .dataframe thead th {\n",
       "        text-align: right;\n",
       "    }\n",
       "</style>\n",
       "<table border=\"1\" class=\"dataframe\">\n",
       "  <thead>\n",
       "    <tr style=\"text-align: right;\">\n",
       "      <th>project</th>\n",
       "      <th>uid</th>\n",
       "      <th>iter</th>\n",
       "      <th>start</th>\n",
       "      <th>state</th>\n",
       "      <th>name</th>\n",
       "      <th>labels</th>\n",
       "      <th>inputs</th>\n",
       "      <th>parameters</th>\n",
       "      <th>results</th>\n",
       "      <th>artifacts</th>\n",
       "    </tr>\n",
       "  </thead>\n",
       "  <tbody>\n",
       "    <tr>\n",
       "      <td>fraud-eda-admin</td>\n",
       "      <td><div title=\"3d275b269dc745a18df044e3e3dd8d8c\"><a href=\"https://dashboard.default-tenant.app.vmdev41.lab.iguazeng.com/mlprojects/fraud-eda-admin/jobs/monitor/3d275b269dc745a18df044e3e3dd8d8c/overview\" target=\"_blank\" >...e3dd8d8c</a></div></td>\n",
       "      <td>0</td>\n",
       "      <td>Jun 21 10:53:55</td>\n",
       "      <td>completed</td>\n",
       "      <td>describe-analyze</td>\n",
       "      <td><div class=\"dictlist\">v3io_user=admin</div><div class=\"dictlist\">kind=</div><div class=\"dictlist\">owner=admin</div><div class=\"dictlist\">host=jupyter-74c86b8866-d2vpm</div></td>\n",
       "      <td><div class=\"artifact\" onclick=\"expandPanel(this)\" paneName=\"result92d2c00e\" title=\"/files/my_demos/demo-fraud/data_set_describe.csv\">table</div></td>\n",
       "      <td><div class=\"dictlist\">label_column=fraud</div></td>\n",
       "      <td></td>\n",
       "      <td><div class=\"artifact\" onclick=\"expandPanel(this)\" paneName=\"result92d2c00e\" title=\"files/v3io/projects/fraud-eda-admin/artifacts/describe-analyze/0/describe-csv.csv\">describe-csv</div><div class=\"artifact\" onclick=\"expandPanel(this)\" paneName=\"result92d2c00e\" title=\"files/v3io/projects/fraud-eda-admin/artifacts/describe-analyze/0/hist.html\">hist</div><div class=\"artifact\" onclick=\"expandPanel(this)\" paneName=\"result92d2c00e\" title=\"files/v3io/projects/fraud-eda-admin/artifacts/describe-analyze/0/histograms.html\">histograms</div><div class=\"artifact\" onclick=\"expandPanel(this)\" paneName=\"result92d2c00e\" title=\"files/v3io/projects/fraud-eda-admin/artifacts/describe-analyze/0/scatter-2d.html\">scatter-2d</div><div class=\"artifact\" onclick=\"expandPanel(this)\" paneName=\"result92d2c00e\" title=\"files/v3io/projects/fraud-eda-admin/artifacts/describe-analyze/0/violin.html\">violin</div><div class=\"artifact\" onclick=\"expandPanel(this)\" paneName=\"result92d2c00e\" title=\"files/v3io/projects/fraud-eda-admin/artifacts/describe-analyze/0/imbalance.html\">imbalance</div><div class=\"artifact\" onclick=\"expandPanel(this)\" paneName=\"result92d2c00e\" title=\"files/v3io/projects/fraud-eda-admin/artifacts/describe-analyze/0/imbalance-weights-vec.csv\">imbalance-weights-vec</div><div class=\"artifact\" onclick=\"expandPanel(this)\" paneName=\"result92d2c00e\" title=\"files/v3io/projects/fraud-eda-admin/artifacts/describe-analyze/0/correlation-matrix-csv.csv\">correlation-matrix-csv</div><div class=\"artifact\" onclick=\"expandPanel(this)\" paneName=\"result92d2c00e\" title=\"files/v3io/projects/fraud-eda-admin/artifacts/describe-analyze/0/correlation.html\">correlation</div><div title=\"v3io:///projects/fraud-eda-admin/artifacts/describe-analyze/0/dataset.parquet\">dataset</div></td>\n",
       "    </tr>\n",
       "  </tbody>\n",
       "</table>\n",
       "</div></div>\n",
       "  <div id=\"result92d2c00e-pane\" class=\"right-pane block hidden\">\n",
       "    <div class=\"pane-header\">\n",
       "      <span id=\"result92d2c00e-title\" class=\"pane-header-title\">Title</span>\n",
       "      <span onclick=\"closePanel(this)\" paneName=\"result92d2c00e\" class=\"close clickable\">&times;</span>\n",
       "    </div>\n",
       "    <iframe class=\"fileview\" id=\"result92d2c00e-body\"></iframe>\n",
       "  </div>\n",
       "</div>\n"
      ],
      "text/plain": [
       "<IPython.core.display.HTML object>"
      ]
     },
     "metadata": {},
     "output_type": "display_data"
    },
    {
     "name": "stdout",
     "output_type": "stream",
     "text": [
      "\n"
     ]
    },
    {
     "data": {
      "text/html": [
       "<b> > to track results use the .show() or .logs() methods  or <a href=\"https://dashboard.default-tenant.app.vmdev41.lab.iguazeng.com/mlprojects/fraud-eda-admin/jobs/monitor/3d275b269dc745a18df044e3e3dd8d8c/overview\" target=\"_blank\">click here</a> to open in UI</b>"
      ],
      "text/plain": [
       "<IPython.core.display.HTML object>"
      ]
     },
     "metadata": {},
     "output_type": "display_data"
    },
    {
     "name": "stdout",
     "output_type": "stream",
     "text": [
      "> 2023-06-21 10:54:02,013 [info] Run execution finished: {'status': 'completed', 'name': 'describe-analyze'}\n"
     ]
    }
   ],
   "source": [
    "all_data.to_csv('./data_set_describe.csv', index=False)\n",
    "\n",
    "\n",
    "import mlrun\n",
    "\n",
    "project = mlrun.get_or_create_project(\n",
    "    name=\"fraud-eda\", user_project=True, context=\"./\"\n",
    ")\n",
    "\n",
    "# import the function\n",
    "describe = mlrun.import_function('hub://describe')\n",
    "\n",
    "describe_run = describe.run(params={'label_column': 'fraud',},\n",
    "                            inputs={\"table\": './data_set_describe.csv'}, local=True)"
   ]
  },
  {
   "cell_type": "markdown",
   "metadata": {},
   "source": [
    "#### Few examples for plots we get from mlrun describe function."
   ]
  },
  {
   "cell_type": "code",
   "execution_count": 38,
   "metadata": {},
   "outputs": [
    {
     "data": {
      "text/plain": [
       "{'describe-csv': 'v3io:///projects/fraud-eda-admin/artifacts/describe-analyze/0/describe-csv.csv',\n",
       " 'hist': 'store://artifacts/fraud-eda-admin/describe-analyze_hist:3d275b269dc745a18df044e3e3dd8d8c',\n",
       " 'histograms': 'v3io:///projects/fraud-eda-admin/artifacts/describe-analyze/0/histograms.html',\n",
       " 'scatter-2d': 'v3io:///projects/fraud-eda-admin/artifacts/describe-analyze/0/scatter-2d.html',\n",
       " 'violin': 'v3io:///projects/fraud-eda-admin/artifacts/describe-analyze/0/violin.html',\n",
       " 'imbalance': 'v3io:///projects/fraud-eda-admin/artifacts/describe-analyze/0/imbalance.html',\n",
       " 'imbalance-weights-vec': 'v3io:///projects/fraud-eda-admin/artifacts/describe-analyze/0/imbalance-weights-vec.csv',\n",
       " 'correlation-matrix-csv': 'v3io:///projects/fraud-eda-admin/artifacts/describe-analyze/0/correlation-matrix-csv.csv',\n",
       " 'correlation': 'v3io:///projects/fraud-eda-admin/artifacts/describe-analyze/0/correlation.html',\n",
       " 'dataset': 'store://artifacts/fraud-eda-admin/dataset:3d275b269dc745a18df044e3e3dd8d8c'}"
      ]
     },
     "execution_count": 38,
     "metadata": {},
     "output_type": "execute_result"
    }
   ],
   "source": [
    "# view generated artifacts (charts)\n",
    "describe_run.outputs"
   ]
  }
 ],
 "metadata": {
  "kernelspec": {
   "display_name": "mlrun-base",
   "language": "python",
   "name": "conda-env-mlrun-base-py"
  },
  "language_info": {
   "codemirror_mode": {
    "name": "ipython",
    "version": 3
   },
   "file_extension": ".py",
   "mimetype": "text/x-python",
   "name": "python",
   "nbconvert_exporter": "python",
   "pygments_lexer": "ipython3",
   "version": "3.9.16"
  }
 },
 "nbformat": 4,
 "nbformat_minor": 4
}
